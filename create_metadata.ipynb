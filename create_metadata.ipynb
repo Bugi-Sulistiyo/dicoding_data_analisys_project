{
 "cells": [
  {
   "cell_type": "code",
   "execution_count": 22,
   "metadata": {},
   "outputs": [],
   "source": [
    "import os\n",
    "import json"
   ]
  },
  {
   "cell_type": "code",
   "execution_count": 24,
   "metadata": {},
   "outputs": [],
   "source": [
    "path_data_storage = r'./dataset/'"
   ]
  },
  {
   "cell_type": "code",
   "execution_count": 21,
   "metadata": {},
   "outputs": [],
   "source": [
    "metadata_dict = {\n",
    "    \"instant\" : \"record index\",\n",
    "    \"dteday\" : \"date\",\n",
    "    \"season\" : \"season (1:springer, 2:summer, 3:fall, 4:winter)\",\n",
    "    \"yr\" : \"year (0: 2011, 1:2012)\",\n",
    "    \"mnth\" : \"month ( 1 to 12)\",\n",
    "    \"hr\" : \"hour (0 to 23)\",\n",
    "    \"holiday\" : \"weather day is holiday or not (extracted from http://dchr.dc.gov/page/holiday-schedule)\",\n",
    "    \"weekday\" : \"day of the week\",\n",
    "    \"workingday\" : \"if day is neither weekend nor holiday is 1, otherwise is 0.\",\n",
    "    \"weathersit\" : [\n",
    "        {\n",
    "            \"1\" : \"Clear, Few clouds, Partly cloudy, Partly cloudy\",\n",
    "            \"2\" : \"Mist + Cloudy, Mist + Broken clouds, Mist + Few clouds, Mist\",\n",
    "            \"3\" : \"Light Snow, Light Rain + Thunderstorm + Scattered clouds, Light Rain + Scattered clouds\",\n",
    "            \"4\" : \"Heavy Rain + Ice Pallets + Thunderstorm + Mist, Snow + Fog\"\n",
    "        }\n",
    "    ],\n",
    "    \"temp\" : \"Normalized temperature in Celsius. The values are divided to 41 (max)\",\n",
    "    \"atemp\" : \"Normalized feeling temperature in Celsius. The values are divided to 50 (max)\",\n",
    "    \"hum\" : \"Normalized humidity. The values are divided to 100 (max)\",\n",
    "    \"windspeed\" : \"Normalized wind speed. The values are divided to 67 (max)\",\n",
    "    \"casual\" : \"count of casual users\",\n",
    "    \"registered\" : \"count of registered users\",\n",
    "    \"cnt\" : \"count of total rental bikes including both casual and registered\",\n",
    "}"
   ]
  },
  {
   "cell_type": "code",
   "execution_count": 25,
   "metadata": {},
   "outputs": [],
   "source": [
    "metadata_json_object = json.dumps(metadata_dict, indent = 4)\n",
    "\n",
    "with open(os.path.join(path_data_storage, 'metadata.json'), 'w') as json_file:\n",
    "    json_file.write(metadata_json_object)"
   ]
  }
 ],
 "metadata": {
  "kernelspec": {
   "display_name": "venv_dicoding_310",
   "language": "python",
   "name": "python3"
  },
  "language_info": {
   "codemirror_mode": {
    "name": "ipython",
    "version": 3
   },
   "file_extension": ".py",
   "mimetype": "text/x-python",
   "name": "python",
   "nbconvert_exporter": "python",
   "pygments_lexer": "ipython3",
   "version": "3.10.11"
  }
 },
 "nbformat": 4,
 "nbformat_minor": 2
}
